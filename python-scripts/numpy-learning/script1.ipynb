{
 "cells": [
  {
   "cell_type": "markdown",
   "metadata": {},
   "source": [
    "Numpy is a library for numerical math operations - matrixes and vectors mostly\n",
    "The heart of Numpy data structure is Numpy array. It can represent vector (1D), matrixex (2D) or have more dimensions to represent more complex quantities. NumPy array allow ony one type to be stored. Thanks to specific type stored, numpy array can provide linear algebra operations\n",
    "Linear equations look like: y = ax+b, where a and b are numbers"
   ]
  },
  {
   "cell_type": "markdown",
   "metadata": {},
   "source": [
    "Model is a relationship between features - in form of math equation. By using a model you can predict specific feature of our reality"
   ]
  },
  {
   "cell_type": "markdown",
   "metadata": {},
   "source": [
    "This is the concept of machine learning: create a model that represent relationship between diffrent variables using data from past observations, and based of them make precise prediction"
   ]
  },
  {
   "cell_type": "code",
   "execution_count": 6,
   "metadata": {},
   "outputs": [
    {
     "name": "stdout",
     "output_type": "stream",
     "text": [
      "vector's dimension:1 \n",
      "\n",
      "matrix's dimension:2 \n",
      "\n",
      "array's shape (3, 1, 2)\n"
     ]
    }
   ],
   "source": [
    "import numpy\n",
    "\n",
    "#creating 1d array (vector)\n",
    "vector = numpy.array([1,2,3],dtype=numpy.int8)\n",
    "print(f\"vector's dimension:{vector.ndim} \\n\")\n",
    "#creating 2d array (matrix)\n",
    "matrix = numpy.array([ [1,2],[3,4] ])\n",
    "print(f\"matrix's dimension:{matrix.ndim} \\n\")\n",
    "#creating 3d array\n",
    "array3d  = numpy.array([ [ [1,2] ], [ [3,4] ], [ [5,6] ]])\n",
    "print(f\"array's shape {array3d.shape}\")\n",
    "\n",
    "array1 = numpy.arange(1,10) # 1,2,3,4,5 .. 10\n",
    "array2 = numpy.arange(1,10,2) # 1 , 3, 5 .. 9\n",
    "array3 = numpy.linspace(0,1,0.1,dtype=numpy.float16) #0.0, 0.1, 0.2 .. 1.0\n"
   ]
  },
  {
   "cell_type": "code",
   "execution_count": 11,
   "metadata": {},
   "outputs": [
    {
     "name": "stdout",
     "output_type": "stream",
     "text": [
      "99\n"
     ]
    }
   ],
   "source": [
    "#numpy provide functionality changing values while slicing an array\n",
    "slice1 = numpy.arange(99)\n",
    "slice1[::2] = 99\n",
    "print(slice1[4])"
   ]
  },
  {
   "cell_type": "code",
   "execution_count": 24,
   "metadata": {},
   "outputs": [
    {
     "name": "stdout",
     "output_type": "stream",
     "text": [
      "(20,)\n",
      "(4, 5)\n",
      "[ 0  5 10 15]\n",
      "[0 1 2 3 4]\n",
      "[[ 0  1  2  3]\n",
      " [ 5  6  7  8]\n",
      " [10 11 12 13]\n",
      " [15 16 17 18]]\n",
      "[[[ 0  1  2]\n",
      "  [ 3  4  5]\n",
      "  [ 6  7  8]]\n",
      "\n",
      " [[ 9 10 11]\n",
      "  [12 13 14]\n",
      "  [15 16 17]]\n",
      "\n",
      " [[18 19 20]\n",
      "  [21 22 23]\n",
      "  [24 25 26]]]\n",
      "[0 3 6]\n"
     ]
    }
   ],
   "source": [
    "#numpy provide a option to resharp array to another dimensions\n",
    "base = numpy.arange(20)\n",
    "print(base.shape)\n",
    "matrix4x5 = base.reshape((4,5))\n",
    "print(matrix4x5.shape)\n",
    "#pick column\n",
    "print(matrix4x5[:,0])\n",
    "#pick row\n",
    "print(matrix4x5[0,:])\n",
    "#pick all excepts the last column\n",
    "print(matrix4x5[:,:-1])\n",
    "multiTable3 = numpy.arange(3**3)\n",
    "multiTable3 = multiTable3.reshape((3,3,3))\n",
    "#pick first elements of axis 0\n",
    "print(multiTable3[0, :, 0])"
   ]
  },
  {
   "cell_type": "markdown",
   "metadata": {},
   "source": [
    "Other method for slicing is to create auxiliary variable that will contain elements that we want to slice. Positions which value will be True means that these ones are what we are interested in"
   ]
  },
  {
   "cell_type": "code",
   "execution_count": 26,
   "metadata": {},
   "outputs": [
    {
     "name": "stdout",
     "output_type": "stream",
     "text": [
      "[0 3 6]\n"
     ]
    }
   ],
   "source": [
    "full = numpy.arange(9).reshape((3,3))\n",
    "positionsToSlice = numpy.array([[True, False, False],[True, False, False],[True, False, False]])\n",
    "print(full[positionsToSlice])\n"
   ]
  },
  {
   "cell_type": "markdown",
   "metadata": {},
   "source": [
    "CHEATSHEET LINK:"
   ]
  },
  {
   "cell_type": "markdown",
   "metadata": {},
   "source": [
    "https://blog.finxter.com/numpy-cheat-sheet/"
   ]
  }
 ],
 "metadata": {
  "interpreter": {
   "hash": "d5a00d714e440f2441f40e50638fb9bf082983dadf7d92464366659a418ef00b"
  },
  "kernelspec": {
   "display_name": "Python 3.10.0 64-bit",
   "language": "python",
   "name": "python3"
  },
  "language_info": {
   "codemirror_mode": {
    "name": "ipython",
    "version": 3
   },
   "file_extension": ".py",
   "mimetype": "text/x-python",
   "name": "python",
   "nbconvert_exporter": "python",
   "pygments_lexer": "ipython3",
   "version": "3.10.0"
  },
  "orig_nbformat": 4
 },
 "nbformat": 4,
 "nbformat_minor": 2
}
