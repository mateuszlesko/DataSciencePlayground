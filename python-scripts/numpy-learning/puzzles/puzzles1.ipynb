{
 "cells": [
  {
   "cell_type": "markdown",
   "metadata": {},
   "source": [
    "#From the book \"Coffee Break NumPy\" by Christian Mayer"
   ]
  },
  {
   "cell_type": "markdown",
   "metadata": {},
   "source": [
    "##PUZZLE 1"
   ]
  },
  {
   "cell_type": "markdown",
   "metadata": {},
   "source": [
    "Objective: Understand how work \"ndim\""
   ]
  },
  {
   "cell_type": "code",
   "execution_count": 2,
   "metadata": {},
   "outputs": [],
   "source": [
    "import numpy"
   ]
  },
  {
   "cell_type": "code",
   "execution_count": 3,
   "metadata": {},
   "outputs": [
    {
     "name": "stdout",
     "output_type": "stream",
     "text": [
      "2\n"
     ]
    }
   ],
   "source": [
    "\n",
    "#salaries in 1000$ from 2015 to 2017\n",
    "dataScientist = [133,132,137]\n",
    "productManager = [127,140,145]\n",
    "designer = [118,118,127]\n",
    "softwareEngineer = [129,131,137]\n",
    "salaries = numpy.array([dataScientist,productManager,designer,softwareEngineer]) \n",
    "print(salaries.ndim)\n"
   ]
  },
  {
   "cell_type": "markdown",
   "metadata": {},
   "source": [
    "#PUZZLE 2 "
   ]
  },
  {
   "cell_type": "markdown",
   "metadata": {},
   "source": [
    "WHY result equals 2? Because variable \"salaries\" is an matrix (2d structure) that contains 3 columns and 4 rows"
   ]
  },
  {
   "cell_type": "code",
   "execution_count": 5,
   "metadata": {},
   "outputs": [
    {
     "name": "stdout",
     "output_type": "stream",
     "text": [
      "(3,)\n",
      "(3,)\n"
     ]
    }
   ],
   "source": [
    "print(salaries[0].shape)\n",
    "print(salaries[1].shape)"
   ]
  },
  {
   "cell_type": "markdown",
   "metadata": {},
   "source": [
    "WHY result equals (3,) ? Because each row of matrix contains 3 columns and we want see the first row of \"salaries\" so we got vector by slicing operation"
   ]
  }
 ],
 "metadata": {
  "interpreter": {
   "hash": "d5a00d714e440f2441f40e50638fb9bf082983dadf7d92464366659a418ef00b"
  },
  "kernelspec": {
   "display_name": "Python 3.10.0 64-bit",
   "language": "python",
   "name": "python3"
  },
  "language_info": {
   "codemirror_mode": {
    "name": "ipython",
    "version": 3
   },
   "file_extension": ".py",
   "mimetype": "text/x-python",
   "name": "python",
   "nbconvert_exporter": "python",
   "pygments_lexer": "ipython3",
   "version": "3.10.0"
  },
  "orig_nbformat": 4
 },
 "nbformat": 4,
 "nbformat_minor": 2
}
