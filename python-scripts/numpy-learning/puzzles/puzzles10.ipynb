{
 "cells": [
  {
   "cell_type": "markdown",
   "metadata": {},
   "source": [
    "# From the book \"Coffee Break NumPy\" by Christian Mayer"
   ]
  },
  {
   "cell_type": "markdown",
   "metadata": {},
   "source": [
    "## Puzzle 13: The Boolean Indexing Trick\n"
   ]
  },
  {
   "cell_type": "markdown",
   "metadata": {},
   "source": [
    "This trick enable you to pick any element. The position where is True is the element that we want select "
   ]
  },
  {
   "cell_type": "code",
   "execution_count": null,
   "metadata": {},
   "outputs": [],
   "source": [
    "import numpy\n",
    "years = numpy.array(\n",
    "[[ 2000, 2001, 2002],\n",
    "[ 2003, 2004, 2005],\n",
    "[ 2006, 2007, 2008]])\n",
    "\n",
    "leap_years_indices = numpy.array(\n",
    "[[ True, False, False],\n",
    "[ False, True, False],\n",
    "[ False, False, True]])\n",
    "\n",
    "print(years[leap_years_indices][-1])\n",
    "\n"
   ]
  }
 ],
 "metadata": {
  "language_info": {
   "name": "python"
  },
  "orig_nbformat": 4
 },
 "nbformat": 4,
 "nbformat_minor": 2
}
