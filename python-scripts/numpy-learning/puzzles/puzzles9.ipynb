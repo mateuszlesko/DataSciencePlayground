{
 "cells": [
  {
   "cell_type": "markdown",
   "metadata": {},
   "source": [
    "# From the book \"Coffee Break NumPy\" by Christian Mayer\n"
   ]
  },
  {
   "cell_type": "markdown",
   "metadata": {},
   "source": [
    "## Puzzle 12: Practicing Simple Indexing"
   ]
  },
  {
   "cell_type": "markdown",
   "metadata": {},
   "source": [
    "The purpose of dividing by 2 is to normalise results "
   ]
  },
  {
   "cell_type": "code",
   "execution_count": 1,
   "metadata": {},
   "outputs": [
    {
     "name": "stdout",
     "output_type": "stream",
     "text": [
      "42.5\n",
      "30.0\n",
      "11.0\n"
     ]
    }
   ],
   "source": [
    "import numpy\n",
    "# air quality index AQI data\n",
    "hong_kong = numpy.array([ 42, 40, 41, 43, 44, 43 ])\n",
    "new_york = numpy.array([ 30, 31, 29, 29, 29, 30 ])\n",
    "montreal = numpy.array([ 11, 11, 12, 13, 11, 12 ])\n",
    "hk_mean = (hong_kong[0] + hong_kong[-1]) / 2.0\n",
    "ny_mean = (new_york[1] + new_york[-3]) / 2.0\n",
    "m_mean = (montreal[1] + montreal[-0]) / 2.0\n",
    "print(hk_mean)#(42+43)/2\n",
    "print(ny_mean)#(31+29)/2\n",
    "print(m_mean)#(11+11)/2"
   ]
  }
 ],
 "metadata": {
  "interpreter": {
   "hash": "d5a00d714e440f2441f40e50638fb9bf082983dadf7d92464366659a418ef00b"
  },
  "kernelspec": {
   "display_name": "Python 3.10.0 64-bit",
   "language": "python",
   "name": "python3"
  },
  "language_info": {
   "codemirror_mode": {
    "name": "ipython",
    "version": 3
   },
   "file_extension": ".py",
   "mimetype": "text/x-python",
   "name": "python",
   "nbconvert_exporter": "python",
   "pygments_lexer": "ipython3",
   "version": "3.10.0"
  },
  "orig_nbformat": 4
 },
 "nbformat": 4,
 "nbformat_minor": 2
}
