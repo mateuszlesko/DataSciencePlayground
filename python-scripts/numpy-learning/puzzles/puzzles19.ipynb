{
 "cells": [
  {
   "cell_type": "markdown",
   "metadata": {},
   "source": [
    "# From the book \"Coffee Break NumPy\" by Christian Mayer\n"
   ]
  },
  {
   "cell_type": "markdown",
   "metadata": {},
   "source": [
    "## Puzzle 23: Enhancing Vector Operations\n",
    "\n",
    "mathematical - algebraic operations on vectors"
   ]
  },
  {
   "cell_type": "code",
   "execution_count": 5,
   "metadata": {},
   "outputs": [
    {
     "name": "stdout",
     "output_type": "stream",
     "text": [
      "5\n"
     ]
    }
   ],
   "source": [
    "import numpy\n",
    "\n",
    "# 2 points in 3-D space\n",
    "a = numpy.array([5,-3,2])\n",
    "b = numpy.array([1,0,2])\n",
    "c = b - a\n",
    "vec_len = numpy.sqrt(sum(c**2))\n",
    "print(int(vec_len))"
   ]
  },
  {
   "cell_type": "markdown",
   "metadata": {},
   "source": [
    "## Result\n",
    "\n",
    "sqrt((1 - 5)^2 + (0+3)^2 + (2 - 2)^2 + (2 - 2)^2) = sqrt(16 + 9) = 5"
   ]
  }
 ],
 "metadata": {
  "interpreter": {
   "hash": "d5a00d714e440f2441f40e50638fb9bf082983dadf7d92464366659a418ef00b"
  },
  "kernelspec": {
   "display_name": "Python 3.10.0 64-bit",
   "language": "python",
   "name": "python3"
  },
  "language_info": {
   "codemirror_mode": {
    "name": "ipython",
    "version": 3
   },
   "file_extension": ".py",
   "mimetype": "text/x-python",
   "name": "python",
   "nbconvert_exporter": "python",
   "pygments_lexer": "ipython3",
   "version": "3.10.0"
  },
  "orig_nbformat": 4
 },
 "nbformat": 4,
 "nbformat_minor": 2
}
