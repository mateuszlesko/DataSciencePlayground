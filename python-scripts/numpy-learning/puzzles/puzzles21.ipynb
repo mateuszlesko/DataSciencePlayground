{
 "cells": [
  {
   "cell_type": "markdown",
   "metadata": {},
   "source": [
    "# From the book \"Coffee Break NumPy\" by Christian Mayer\n"
   ]
  },
  {
   "cell_type": "markdown",
   "metadata": {},
   "source": [
    "## Puzzle 25: Back to average \n",
    "\n",
    "We are gonna estimate which country's football team score more goal: Brazil or Germany"
   ]
  },
  {
   "cell_type": "markdown",
   "metadata": {},
   "source": [
    "### average\n",
    "\n",
    "calculate average of values in numpy array"
   ]
  },
  {
   "cell_type": "code",
   "execution_count": 1,
   "metadata": {},
   "outputs": [
    {
     "name": "stdout",
     "output_type": "stream",
     "text": [
      "True\n"
     ]
    }
   ],
   "source": [
    "import numpy\n",
    "brazil_goals = numpy.array([1,2,3,1,2])\n",
    "germany_goals = numpy.array([1,0,1,2,0])\n",
    "print(numpy.average(brazil_goals) > numpy.average(germany_goals))"
   ]
  },
  {
   "cell_type": "markdown",
   "metadata": {},
   "source": [
    "## Result:\n",
    "\n",
    "true \n",
    "\n",
    "## Explained:\n",
    "\n",
    "Brazil avg goals = (1+2+3+1+2)/5 = 1.8\n",
    "\n",
    "Germany avg goals = (1+0+1+2+0)/5 = 0.8\n",
    "\n",
    "1.8 > 0.8"
   ]
  }
 ],
 "metadata": {
  "interpreter": {
   "hash": "d5a00d714e440f2441f40e50638fb9bf082983dadf7d92464366659a418ef00b"
  },
  "kernelspec": {
   "display_name": "Python 3.10.0 64-bit",
   "language": "python",
   "name": "python3"
  },
  "language_info": {
   "codemirror_mode": {
    "name": "ipython",
    "version": 3
   },
   "file_extension": ".py",
   "mimetype": "text/x-python",
   "name": "python",
   "nbconvert_exporter": "python",
   "pygments_lexer": "ipython3",
   "version": "3.10.0"
  },
  "orig_nbformat": 4
 },
 "nbformat": 4,
 "nbformat_minor": 2
}
