{
 "cells": [
  {
   "cell_type": "markdown",
   "metadata": {},
   "source": [
    "# From the book \"Coffee Break NumPy\" by Christian Mayer\n"
   ]
  },
  {
   "cell_type": "markdown",
   "metadata": {},
   "source": [
    "## Puzzle 15: Simple Array Logic\n"
   ]
  },
  {
   "cell_type": "markdown",
   "metadata": {},
   "source": [
    "Instagram_profiles contain data about how much followers (in milions) profiles like instagram, Selena Gomez or Beyonce have. The superstar has more than 100 milions followers"
   ]
  },
  {
   "cell_type": "code",
   "execution_count": 1,
   "metadata": {},
   "outputs": [
    {
     "name": "stdout",
     "output_type": "stream",
     "text": [
      "[ True  True False  True  True False]\n"
     ]
    }
   ],
   "source": [
    "import numpy\n",
    "instagram_profiles = [\n",
    "    232,#@instagram\n",
    "    133,#@selenagomez\n",
    "    59,#@victoriasecret\n",
    "    120,#@cristiano\n",
    "    111,#@beyonce\n",
    "    76,#@nike\n",
    "]\n",
    "instagram_array = numpy.array(instagram_profiles)\n",
    "instagram_superstars = instagram_array > 100\n",
    "print(instagram_superstars)"
   ]
  }
 ],
 "metadata": {
  "interpreter": {
   "hash": "d5a00d714e440f2441f40e50638fb9bf082983dadf7d92464366659a418ef00b"
  },
  "kernelspec": {
   "display_name": "Python 3.10.0 64-bit",
   "language": "python",
   "name": "python3"
  },
  "language_info": {
   "codemirror_mode": {
    "name": "ipython",
    "version": 3
   },
   "file_extension": ".py",
   "mimetype": "text/x-python",
   "name": "python",
   "nbconvert_exporter": "python",
   "pygments_lexer": "ipython3",
   "version": "3.10.0"
  },
  "orig_nbformat": 4
 },
 "nbformat": 4,
 "nbformat_minor": 2
}
