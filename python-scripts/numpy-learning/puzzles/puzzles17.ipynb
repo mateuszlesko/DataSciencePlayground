{
 "cells": [
  {
   "cell_type": "markdown",
   "metadata": {},
   "source": [
    "# From the book \"Coffee Break NumPy\" by Christian Mayer\n"
   ]
  },
  {
   "cell_type": "markdown",
   "metadata": {},
   "source": [
    "## Puzzle 21: Calculating 1D Dot Product\n",
    "simple stock price predictions using linear regression\n"
   ]
  },
  {
   "cell_type": "markdown",
   "metadata": {},
   "source": [
    "### dot\n",
    "method creates dot product. It means that, it multiply 2 scalars or matrices and return single value from these"
   ]
  },
  {
   "cell_type": "markdown",
   "metadata": {},
   "source": [
    "W = weight vector (in ML) - contains the weights from past 3days (how much each day contributes to the predictions)"
   ]
  },
  {
   "cell_type": "code",
   "execution_count": 3,
   "metadata": {},
   "outputs": [
    {
     "name": "stdout",
     "output_type": "stream",
     "text": [
      "buy\n"
     ]
    }
   ],
   "source": [
    "import numpy\n",
    "#simple regression model\n",
    "W = numpy.array([0.7,0.2,0.1])\n",
    "#google stocks from today, yesterday, 2 days ago\n",
    "x = numpy.array([1131,1142,1140])\n",
    "#making a stocl prediction\n",
    "y = numpy.dot(W,x)\n",
    "if y > x[0]:\n",
    "    print(\"buy\")\n",
    "else:\n",
    "    print(\"sell\")\n"
   ]
  },
  {
   "cell_type": "markdown",
   "metadata": {},
   "source": [
    "y = 0.7 * 1131 + 0.2 * 1142 * 0.1 * 1140 = 1134.1. We predict that future value of the Google's stock will increse so we will buy some stock. The motivation of selling or buying stock are based on values in weight vector (W)"
   ]
  }
 ],
 "metadata": {
  "interpreter": {
   "hash": "d5a00d714e440f2441f40e50638fb9bf082983dadf7d92464366659a418ef00b"
  },
  "kernelspec": {
   "display_name": "Python 3.10.0 64-bit",
   "language": "python",
   "name": "python3"
  },
  "language_info": {
   "codemirror_mode": {
    "name": "ipython",
    "version": 3
   },
   "file_extension": ".py",
   "mimetype": "text/x-python",
   "name": "python",
   "nbconvert_exporter": "python",
   "pygments_lexer": "ipython3",
   "version": "3.10.0"
  },
  "orig_nbformat": 4
 },
 "nbformat": 4,
 "nbformat_minor": 2
}
