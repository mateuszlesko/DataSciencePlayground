{
 "cells": [
  {
   "cell_type": "markdown",
   "metadata": {},
   "source": [
    "# From the book \"Coffee Break NumPy\" by Christian Mayer\n"
   ]
  },
  {
   "cell_type": "markdown",
   "metadata": {},
   "source": [
    "## Puzzle 8: Initializing Multi-Dimensional Arrays"
   ]
  },
  {
   "cell_type": "code",
   "execution_count": 2,
   "metadata": {},
   "outputs": [
    {
     "name": "stdout",
     "output_type": "stream",
     "text": [
      "2.0\n"
     ]
    }
   ],
   "source": [
    "import numpy\n",
    "n = 100\n",
    "W = numpy.zeros((n,n)) #create matrix 100x100 with zeros values\n",
    "for i in range(len(W)):\n",
    "    W[i][i] = 2 # matrix diagonal fill with value 2\n",
    "X = numpy.ones((n,n)) #create matrix 100x100 with one values\n",
    "\"\"\"\n",
    "multiply matixes: you can do that if count of rows X in one equals count of columns Y in second one;\n",
    " after that result is a new matrix that dimensions are: rows from matrix 1 and columns from matrix 2\n",
    "\"\"\"\n",
    "Y = W*X \n",
    "print(Y[-1][-1])"
   ]
  }
 ],
 "metadata": {
  "interpreter": {
   "hash": "d5a00d714e440f2441f40e50638fb9bf082983dadf7d92464366659a418ef00b"
  },
  "kernelspec": {
   "display_name": "Python 3.10.0 64-bit",
   "language": "python",
   "name": "python3"
  },
  "language_info": {
   "codemirror_mode": {
    "name": "ipython",
    "version": 3
   },
   "file_extension": ".py",
   "mimetype": "text/x-python",
   "name": "python",
   "nbconvert_exporter": "python",
   "pygments_lexer": "ipython3",
   "version": "3.10.0"
  },
  "orig_nbformat": 4
 },
 "nbformat": 4,
 "nbformat_minor": 2
}
