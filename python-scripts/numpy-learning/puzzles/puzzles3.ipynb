{
 "cells": [
  {
   "cell_type": "markdown",
   "metadata": {},
   "source": [
    "#From the book \"Coffee Break NumPy\" by Christian Mayer"
   ]
  },
  {
   "cell_type": "markdown",
   "metadata": {},
   "source": [
    "##Puzzles 4:"
   ]
  },
  {
   "cell_type": "code",
   "execution_count": 1,
   "metadata": {},
   "outputs": [],
   "source": [
    "import numpy"
   ]
  },
  {
   "cell_type": "code",
   "execution_count": 5,
   "metadata": {},
   "outputs": [
    {
     "name": "stdout",
     "output_type": "stream",
     "text": [
      "6\n"
     ]
    }
   ],
   "source": [
    "data = numpy.array([10,3,numpy.NaN, 7, numpy.NaN,5])\n",
    "students_present = 0\n",
    "students_absent = 0\n",
    "for result in data:\n",
    "    if result == numpy.NaN:\n",
    "        students_absent+=1\n",
    "    else:\n",
    "        students_present+=1\n",
    "print(students_present)"
   ]
  },
  {
   "cell_type": "markdown",
   "metadata": {},
   "source": [
    "WHY 6? Well property numpy.NaN can not be compare by using \"==\" nor \"!=\". Numpy offer a \"isnan\" function to check if dataset values contains NaN"
   ]
  },
  {
   "cell_type": "markdown",
   "metadata": {},
   "source": [
    "My improvement of above code:"
   ]
  },
  {
   "cell_type": "code",
   "execution_count": 11,
   "metadata": {},
   "outputs": [
    {
     "name": "stdout",
     "output_type": "stream",
     "text": [
      "4\n"
     ]
    }
   ],
   "source": [
    "data = numpy.array([10,3,numpy.NaN, 7, numpy.NaN,5])\n",
    "students_present =  numpy.count_nonzero(~numpy.isnan(data)) #~ invers boolean matrix returned from isnan\n",
    "print(students_present)"
   ]
  }
 ],
 "metadata": {
  "interpreter": {
   "hash": "d5a00d714e440f2441f40e50638fb9bf082983dadf7d92464366659a418ef00b"
  },
  "kernelspec": {
   "display_name": "Python 3.10.0 64-bit",
   "language": "python",
   "name": "python3"
  },
  "language_info": {
   "codemirror_mode": {
    "name": "ipython",
    "version": 3
   },
   "file_extension": ".py",
   "mimetype": "text/x-python",
   "name": "python",
   "nbconvert_exporter": "python",
   "pygments_lexer": "ipython3",
   "version": "3.10.0"
  },
  "orig_nbformat": 4
 },
 "nbformat": 4,
 "nbformat_minor": 2
}
