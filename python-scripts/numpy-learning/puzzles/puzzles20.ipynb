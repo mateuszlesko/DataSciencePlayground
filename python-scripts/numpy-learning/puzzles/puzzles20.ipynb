{
 "cells": [
  {
   "cell_type": "markdown",
   "metadata": {},
   "source": [
    "# From the book \"Coffee Break NumPy\" by Christian Mayer\n"
   ]
  },
  {
   "cell_type": "markdown",
   "metadata": {},
   "source": [
    "## Puzzle 24: title\n",
    "\n",
    "what we gonna learn?"
   ]
  },
  {
   "cell_type": "markdown",
   "metadata": {},
   "source": [
    "### function\n",
    "\n",
    "description"
   ]
  },
  {
   "cell_type": "code",
   "execution_count": 5,
   "metadata": {},
   "outputs": [
    {
     "name": "stdout",
     "output_type": "stream",
     "text": [
      "[-6 -8  3]\n",
      "0\n"
     ]
    }
   ],
   "source": [
    "import numpy\n",
    "a = numpy.array([5, -3, 2])\n",
    "b = numpy.array([1, 0, 2])\n",
    "c = numpy.cross(a,b)\n",
    "scalar_prod = numpy.dot(a, c)\n",
    "\n",
    "print(c)\n",
    "print(scalar_prod)"
   ]
  },
  {
   "cell_type": "markdown",
   "metadata": {},
   "source": [
    "## Result\n",
    "\n",
    "c = [-6 -8  3]\n",
    "\n",
    "Cross function calculate the cross product of two vectors. And then create scalar by using function for dot product of 2 vectors"
   ]
  }
 ],
 "metadata": {
  "interpreter": {
   "hash": "d5a00d714e440f2441f40e50638fb9bf082983dadf7d92464366659a418ef00b"
  },
  "kernelspec": {
   "display_name": "Python 3.10.0 64-bit",
   "language": "python",
   "name": "python3"
  },
  "language_info": {
   "codemirror_mode": {
    "name": "ipython",
    "version": 3
   },
   "file_extension": ".py",
   "mimetype": "text/x-python",
   "name": "python",
   "nbconvert_exporter": "python",
   "pygments_lexer": "ipython3",
   "version": "3.10.0"
  },
  "orig_nbformat": 4
 },
 "nbformat": 4,
 "nbformat_minor": 2
}
