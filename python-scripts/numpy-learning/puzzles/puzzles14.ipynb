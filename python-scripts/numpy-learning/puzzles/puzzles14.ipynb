{
 "cells": [
  {
   "cell_type": "markdown",
   "metadata": {},
   "source": [
    "# From the book \"Coffee Break NumPy\" by Christian Mayer"
   ]
  },
  {
   "cell_type": "markdown",
   "metadata": {},
   "source": [
    "## Puzzle 17:  Sorting an Array"
   ]
  },
  {
   "cell_type": "markdown",
   "metadata": {},
   "source": [
    "Array \"scores\" store student's result of test"
   ]
  },
  {
   "cell_type": "code",
   "execution_count": 1,
   "metadata": {},
   "outputs": [
    {
     "name": "stdout",
     "output_type": "stream",
     "text": [
      "6\n"
     ]
    }
   ],
   "source": [
    "import numpy\n",
    "scores = numpy.array([7,6,8,5,9])\n",
    "scores = numpy.sort(scores)\n",
    "scores = scores[::-1] #reverse order\n",
    "print(scores[-2])"
   ]
  },
  {
   "cell_type": "markdown",
   "metadata": {},
   "source": [
    "## Puzzle 18: Sorting an Array"
   ]
  },
  {
   "cell_type": "markdown",
   "metadata": {},
   "source": [
    "For some data science problems, it's not enough to just sort raw data. \n",
    "Maybe it will be important to know the exact re-arrangement of the raw data, i.e the\n",
    "re-arranged indices of its elements that resulted in its sorted form"
   ]
  },
  {
   "cell_type": "markdown",
   "metadata": {},
   "source": [
    "We have a dataset of pair values: id' sensors and their values\n",
    "\n",
    "id => value\n",
    "\n",
    "56 => 10\n",
    "\n",
    "61 => 6\n",
    "\n",
    "33 => 8\n",
    "\n",
    "etc"
   ]
  },
  {
   "cell_type": "markdown",
   "metadata": {},
   "source": [
    "### argsort\n",
    "\n",
    "argsort sorted data in ascending order. Instead of returning sorted values, it returns the indicates of the elements from the orginal values array in order in which they occur in the sorted array.\n",
    "\n",
    "For example: for the value 10 (the largest value in dataset), its index 0 becomes the last element of indicates array"
   ]
  },
  {
   "cell_type": "code",
   "execution_count": 5,
   "metadata": {},
   "outputs": [
    {
     "name": "stdout",
     "output_type": "stream",
     "text": [
      "33\n"
     ]
    }
   ],
   "source": [
    "ids = [56,61,33,17,82]\n",
    "values = numpy.array([10,6,8,7,9])\n",
    "indicates = numpy.argsort(values) #sort in ascending order\n",
    "print(ids[indicates[2]])"
   ]
  },
  {
   "cell_type": "markdown",
   "metadata": {},
   "source": [
    "so using the ids[indicates[2]] we tell that we want sensor id which has the 3rd smallest value"
   ]
  }
 ],
 "metadata": {
  "interpreter": {
   "hash": "d5a00d714e440f2441f40e50638fb9bf082983dadf7d92464366659a418ef00b"
  },
  "kernelspec": {
   "display_name": "Python 3.10.0 64-bit",
   "language": "python",
   "name": "python3"
  },
  "language_info": {
   "codemirror_mode": {
    "name": "ipython",
    "version": 3
   },
   "file_extension": ".py",
   "mimetype": "text/x-python",
   "name": "python",
   "nbconvert_exporter": "python",
   "pygments_lexer": "ipython3",
   "version": "3.10.0"
  },
  "orig_nbformat": 4
 },
 "nbformat": 4,
 "nbformat_minor": 2
}
