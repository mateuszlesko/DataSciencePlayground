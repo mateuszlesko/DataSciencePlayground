{
 "cells": [
  {
   "cell_type": "markdown",
   "metadata": {},
   "source": [
    "# From the book \"Coffee Break NumPy\" by Christian Mayer\n"
   ]
  },
  {
   "cell_type": "markdown",
   "metadata": {},
   "source": [
    "## Puzzles 6: Creating numerical sequences"
   ]
  },
  {
   "cell_type": "markdown",
   "metadata": {},
   "source": [
    "How long it take to save > 1000$?"
   ]
  },
  {
   "cell_type": "code",
   "execution_count": 1,
   "metadata": {},
   "outputs": [
    {
     "name": "stdout",
     "output_type": "stream",
     "text": [
      "9\n"
     ]
    }
   ],
   "source": [
    "import numpy\n",
    "savePerMonth = 122.5\n",
    "new_wealth = numpy.arange(0,1000,savePerMonth)\n",
    "print(len(new_wealth))"
   ]
  },
  {
   "cell_type": "markdown",
   "metadata": {},
   "source": [
    "1000 = 122.5*x"
   ]
  },
  {
   "cell_type": "markdown",
   "metadata": {},
   "source": [
    "122.5x = 1000 / 122.5\n",
    "x = 8.16\n",
    "So we will have 9 because we count from 0"
   ]
  },
  {
   "cell_type": "markdown",
   "metadata": {},
   "source": [
    "new_wealth = [0, 122.5, 245, 367.5 ... 980]; as we can see step is 122.5"
   ]
  }
 ],
 "metadata": {
  "interpreter": {
   "hash": "d5a00d714e440f2441f40e50638fb9bf082983dadf7d92464366659a418ef00b"
  },
  "kernelspec": {
   "display_name": "Python 3.10.0 64-bit",
   "language": "python",
   "name": "python3"
  },
  "language_info": {
   "codemirror_mode": {
    "name": "ipython",
    "version": 3
   },
   "file_extension": ".py",
   "mimetype": "text/x-python",
   "name": "python",
   "nbconvert_exporter": "python",
   "pygments_lexer": "ipython3",
   "version": "3.10.0"
  },
  "orig_nbformat": 4
 },
 "nbformat": 4,
 "nbformat_minor": 2
}
