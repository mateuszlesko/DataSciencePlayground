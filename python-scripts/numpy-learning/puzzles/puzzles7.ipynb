{
 "cells": [
  {
   "cell_type": "markdown",
   "metadata": {},
   "source": [
    "# From the book \"Coffee Break NumPy\" by Christian Mayer\n"
   ]
  },
  {
   "cell_type": "markdown",
   "metadata": {},
   "source": [
    "## Understanding the Hadamard Product"
   ]
  },
  {
   "cell_type": "markdown",
   "metadata": {},
   "source": [
    "Hadmard Product is the mutiplication of 2 matrixes, which both have the same dimensions. In result we get a new matrix with the same dimensions as before"
   ]
  },
  {
   "cell_type": "code",
   "execution_count": 3,
   "metadata": {},
   "outputs": [
    {
     "name": "stdout",
     "output_type": "stream",
     "text": [
      "True\n"
     ]
    }
   ],
   "source": [
    "import numpy\n",
    "#salaries in 1000$ from 2015 to 2017\n",
    "dataScientist = [133, 132, 137]\n",
    "productManager = [127, 140, 145]\n",
    "designer = [118, 118, 127]\n",
    "softwareEngineer = [129, 131, 137]\n",
    "\n",
    "#salaries matrix\n",
    "S = numpy.array([dataScientist,productManager,designer,softwareEngineer])\n",
    "#salaries increse metrics as a weights\n",
    "I = numpy.array(\n",
    "    [\n",
    "        [1.1, 1.2, 1.3],\n",
    "        [1.0, 1.0, 1.0],\n",
    "        [0.9, 0.8, 0.7],\n",
    "        [1.1, 1.1, 1.1]\n",
    "    ],dtype=numpy.float16\n",
    "    )\n",
    "S2 = S*I\n",
    "print(S2[2][0] > S[2][0])"
   ]
  },
  {
   "cell_type": "markdown",
   "metadata": {},
   "source": [
    "\"*\" operand multiply two values at position (i,j) of 2 matrices"
   ]
  }
 ],
 "metadata": {
  "interpreter": {
   "hash": "d5a00d714e440f2441f40e50638fb9bf082983dadf7d92464366659a418ef00b"
  },
  "kernelspec": {
   "display_name": "Python 3.10.0 64-bit",
   "language": "python",
   "name": "python3"
  },
  "language_info": {
   "codemirror_mode": {
    "name": "ipython",
    "version": 3
   },
   "file_extension": ".py",
   "mimetype": "text/x-python",
   "name": "python",
   "nbconvert_exporter": "python",
   "pygments_lexer": "ipython3",
   "version": "3.10.0"
  },
  "orig_nbformat": 4
 },
 "nbformat": 4,
 "nbformat_minor": 2
}
