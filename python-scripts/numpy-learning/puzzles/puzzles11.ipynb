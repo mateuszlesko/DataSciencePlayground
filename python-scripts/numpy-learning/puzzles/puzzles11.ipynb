{
 "cells": [
  {
   "cell_type": "markdown",
   "metadata": {},
   "source": [
    "# From the book \"Coffee Break NumPy\" by Christian Mayer\n"
   ]
  },
  {
   "cell_type": "markdown",
   "metadata": {},
   "source": [
    "## Puzzle 14: Slicing Matrices Like Paper\n"
   ]
  },
  {
   "cell_type": "code",
   "execution_count": 2,
   "metadata": {},
   "outputs": [
    {
     "name": "stdout",
     "output_type": "stream",
     "text": [
      "eat apples"
     ]
    }
   ],
   "source": [
    "import numpy\n",
    "\n",
    "def glow(snippet):\n",
    "    for c in snippet:\n",
    "        print(*c, end='')\n",
    "\n",
    "newspaper = numpy.array([\n",
    "    [' ', 'a', 'p', 'p'],\n",
    "    ['b', 'a', 'n', 'a'],\n",
    "    ['t', 'o', 'm', 't'],\n",
    "    ['c', 'u', 'c', 'a'],\n",
    "    ['l', 'e', 's', 'e'],\n",
    "    ['p', 'r', 'e', 's'],\n",
    "    ['c', 'a', 'r', 's'],\n",
    "    ['y', 'e', 'a', 'r']\n",
    "])\n",
    "\n",
    "snippet1 = newspaper[2:5, -1:][::-1] # take elements from index 5 to 2, and the last letter of this index\n",
    "snippet2 = newspaper[0, :] #take the first element\n",
    "snippet3 = newspaper[4, :-1] #take 3 letters from element at index 4\n",
    "glow(snippet1)\n",
    "glow(snippet2)\n",
    "glow(snippet3)"
   ]
  }
 ],
 "metadata": {
  "interpreter": {
   "hash": "d5a00d714e440f2441f40e50638fb9bf082983dadf7d92464366659a418ef00b"
  },
  "kernelspec": {
   "display_name": "Python 3.10.0 64-bit",
   "language": "python",
   "name": "python3"
  },
  "language_info": {
   "codemirror_mode": {
    "name": "ipython",
    "version": 3
   },
   "file_extension": ".py",
   "mimetype": "text/x-python",
   "name": "python",
   "nbconvert_exporter": "python",
   "pygments_lexer": "ipython3",
   "version": "3.10.0"
  },
  "orig_nbformat": 4
 },
 "nbformat": 4,
 "nbformat_minor": 2
}
