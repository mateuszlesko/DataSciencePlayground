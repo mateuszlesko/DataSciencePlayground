{
 "cells": [
  {
   "cell_type": "markdown",
   "metadata": {},
   "source": [
    "Propabillity have usecases in diagnostic and testing embedded systems. We can establish a value of propabillity of defect in each elements."
   ]
  },
  {
   "cell_type": "markdown",
   "metadata": {},
   "source": [
    "Our data contains : elements (number each number means diffrent element on the mainboard), their temperatures\n",
    " "
   ]
  },
  {
   "cell_type": "code",
   "execution_count": null,
   "metadata": {},
   "outputs": [],
   "source": [
    "#imports and setup\n",
    "import numpy\n",
    "import matplotlib.pyplot\n",
    "import scipy.stats"
   ]
  },
  {
   "cell_type": "code",
   "execution_count": null,
   "metadata": {},
   "outputs": [],
   "source": [
    "plc = [123, 12, 7, 8, 10, 4, 1, 0, 0, 2, 1, 3, 0, 0, 0, 0, 0, 1, 0, 0, 0, 0, 1, 0, 0, 0, 2, 7, 12, 10, 18, 20, 20, 12, 50, 180, 80, 110, 43, 63]\n",
    "temp = [34, 12, 4, 2, 1, 0, 1, 0, 0, 2, 1, 0, 0, 8, 9, 20, 41, 78]"
   ]
  },
  {
   "cell_type": "markdown",
   "metadata": {},
   "source": [
    "Now we are going to establish: damage density function, leading function, and parameters like: reliability, activity intensity."
   ]
  },
  {
   "cell_type": "code",
   "execution_count": null,
   "metadata": {},
   "outputs": [],
   "source": [
    "n = len(plc)\n",
    "f = plc / sum(plc) # leading function\n",
    "Q = numpy.zeros(n) #vector for unreliability\n",
    "for i in range(1,n):\n",
    "    Q[i] = Q[i-1]+f[i]\n",
    "R = 1 - Q #reliability\n",
    "l = f / R #activity intensity\n",
    "\n",
    "L = numpy.zeros(n) #leading function\n",
    "for i in range(1,n):\n",
    "    L[i] = L[i-1]+l[i]\n",
    "\n",
    "n2 = len(temp)\n",
    "f2 = temp / sum(temp)\n",
    "Q2 = numpy.zeros(n)\n",
    "for i in range (1, n2):\n",
    "    Q2[i] = Q2[i-1]+f2[i]\n",
    "\n",
    "R2 = 1 - Q2\n",
    "l2 = f2 / R2\n",
    "\n",
    "L2 = numpy.zeros(n2)\n",
    "for i in range(1,n2):\n",
    "    L2[i] = L[i-1]+l[i]\n",
    "    \n"
   ]
  }
 ],
 "metadata": {
  "interpreter": {
   "hash": "d5a00d714e440f2441f40e50638fb9bf082983dadf7d92464366659a418ef00b"
  },
  "kernelspec": {
   "display_name": "Python 3.10.0 64-bit",
   "language": "python",
   "name": "python3"
  },
  "language_info": {
   "name": "python",
   "version": "3.10.0"
  },
  "orig_nbformat": 4
 },
 "nbformat": 4,
 "nbformat_minor": 2
}
