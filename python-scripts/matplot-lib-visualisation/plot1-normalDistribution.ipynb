{
 "cells": [
  {
   "cell_type": "markdown",
   "metadata": {},
   "source": [
    "# Plot of normal distribution using matplotlib\n"
   ]
  },
  {
   "cell_type": "markdown",
   "metadata": {},
   "source": [
    "First of all we need to import libraries:\n",
    "numpy (for numerical operations) \n",
    "matplotlib.pyplot (for visualize)\n",
    "matplotlib.stats (for statistican operations)"
   ]
  },
  {
   "cell_type": "code",
   "execution_count": 1,
   "metadata": {},
   "outputs": [],
   "source": [
    "#imports and setup\n",
    "import numpy\n",
    "import matplotlib.pyplot\n",
    "import scipy.stats"
   ]
  },
  {
   "cell_type": "markdown",
   "metadata": {},
   "source": [
    "There is 2 major ways to generates probes using numpy library:"
   ]
  },
  {
   "cell_type": "code",
   "execution_count": 3,
   "metadata": {},
   "outputs": [],
   "source": [
    "xs1 = numpy.linspace(start = 0, stop = 10, num = 100)# num how much probes we want between start and stop\n",
    "xs2 = numpy.arange(start = 0, stop = 10, step = 0.1)# we spacify the diffrence between probes"
   ]
  },
  {
   "cell_type": "markdown",
   "metadata": {},
   "source": [
    "after that we calcuate function using forumla for gauss distribution (normal distribution). I am going to compare my implementation vs a scipy's "
   ]
  },
  {
   "cell_type": "code",
   "execution_count": 5,
   "metadata": {},
   "outputs": [],
   "source": [
    "u = 5\n",
    "a = 1\n",
    "scipyYs = scipy.stats.norm.pdf(xs1,u,a)\n",
    "myYs = (1 / (a * numpy.sqrt(2 * numpy.pi))) * numpy.exp((-numpy.power(xs1-u, 2))/(2 * numpy.power(a, 2)))"
   ]
  },
  {
   "cell_type": "markdown",
   "metadata": {},
   "source": [
    "After that we have to compare both implementation, for that reason we will use subplots from matplotlib. Thanks to subplots we can see many series on the one graph"
   ]
  },
  {
   "cell_type": "code",
   "execution_count": 7,
   "metadata": {},
   "outputs": [
    {
     "data": {
      "text/plain": [
       "[<matplotlib.lines.Line2D at 0x28e8635ded0>]"
      ]
     },
     "execution_count": 7,
     "metadata": {},
     "output_type": "execute_result"
    },
    {
     "data": {
      "image/png": "[encoded data removed]",
      "text/plain": [
       "<Figure size 432x288 with 1 Axes>"
      ]
     },
     "metadata": {
      "needs_background": "light"
     },
     "output_type": "display_data"
    }
   ],
   "source": [
    "matplotlib.pyplot.subplot(211)\n",
    "matplotlib.pyplot.plot(xs1, myYs)\n",
    "matplotlib.pyplot.plot(xs2,scipyYs)\n"
   ]
  }
 ],
 "metadata": {
  "interpreter": {
   "hash": "d5a00d714e440f2441f40e50638fb9bf082983dadf7d92464366659a418ef00b"
  },
  "kernelspec": {
   "display_name": "Python 3.10.0 64-bit",
   "language": "python",
   "name": "python3"
  },
  "language_info": {
   "codemirror_mode": {
    "name": "ipython",
    "version": 3
   },
   "file_extension": ".py",
   "mimetype": "text/x-python",
   "name": "python",
   "nbconvert_exporter": "python",
   "pygments_lexer": "ipython3",
   "version": "3.10.0"
  },
  "orig_nbformat": 4
 },
 "nbformat": 4,
 "nbformat_minor": 2
}
